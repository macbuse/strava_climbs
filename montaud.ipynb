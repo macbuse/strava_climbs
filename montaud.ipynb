{
 "cells": [
  {
   "cell_type": "code",
   "execution_count": 3,
   "metadata": {},
   "outputs": [],
   "source": [
    "import os, re\n",
    "\n",
    "#data specific stuff\n",
    "from  scipy import stats\n",
    "import numpy as np\n",
    "import matplotlib.pyplot as plt\n",
    "\n",
    "%matplotlib inline\n",
    "\n",
    "# we'll take stuff line by line \n",
    "# because I'm too lazy to rip the json\n",
    "pp = r'{\"achievement_description\":.*?}'\n",
    "pp = re.compile(pp, re.DOTALL)\n",
    "\n",
    "os.chdir('Desktop')\n",
    "os.chdir('MONTAUD')\n"
   ]
  },
  {
   "cell_type": "code",
   "execution_count": 4,
   "metadata": {
    "collapsed": true
   },
   "outputs": [],
   "source": [
    "p_row = re.compile(r'<tr class=\"\">(.*?)</tr>',re.DOTALL)\n",
    "p_cell = re.compile(r'<td.*?>(.*?)</td>',re.DOTALL)\n",
    "pn = re.compile(r'\">(.*?)</a>')\n",
    "pid = re.compile(r'athletes/(\\d+)')\n",
    "pnum = re.compile(r'\\d[\\d|\\.]*')\n"
   ]
  },
  {
   "cell_type": "code",
   "execution_count": 5,
   "metadata": {},
   "outputs": [],
   "source": [
    "class rider(object):\n",
    "    \n",
    "    def __init__(self,row):\n",
    "        \n",
    "        self.name, date, speed, tt, watts, vam, time = row[1:]\n",
    "        \n",
    "        xx = pnum.search(speed)\n",
    "        if xx:  self.speed = float(xx.group())\n",
    "        \n",
    "        self.has_powermeter = watts.find('Powermeter') > 0\n",
    "        xx = re.search('\\d+',watts)\n",
    "        if xx:  self.watts = int(xx.group())\n",
    "            \n",
    "            \n",
    "        #this is stupid group(1) fails\n",
    "        self.id_num = int(pid.search(self.name).group().split('/')[1])\n",
    "        try:\n",
    "            self.vam = float(vam.replace(',',''))\n",
    "        except:\n",
    "            self.vam = None\n",
    "        \n",
    "        mins,secs = time.split(':')\n",
    "        self.time = int(mins)*60 + int(secs)\n",
    "        \n",
    "        #reset name\n",
    "        tt =  pn.search(self.name)\n",
    "        if tt : self.name = tt.group(1)\n",
    "            \n",
    "    def __str__(self):\n",
    "        return '%s %f'%(self.name,self.speed)\n"
   ]
  },
  {
   "cell_type": "code",
   "execution_count": 13,
   "metadata": {},
   "outputs": [],
   "source": [
    "fns = ['montaud1.htm','montaud2.htm','colomb.htm']\n",
    "data = {}\n",
    "for fn in fns:\n",
    "    mm = p_row.findall(file(fn,'r').read())\n",
    "    table = [rider(p_cell.findall(row)) for row in  mm]\n",
    "    data[fn] = dict((x.id_num, x) for x in table)\n",
    "    "
   ]
  },
  {
   "cell_type": "markdown",
   "metadata": {},
   "source": [
    "Now we have to find everyone who is in the top 20 on all these races."
   ]
  },
  {
   "cell_type": "code",
   "execution_count": 71,
   "metadata": {},
   "outputs": [],
   "source": [
    "a,b,c = [set(data[fn].keys()) for fn in fns]\n",
    "ids = a.intersection(a).intersection(b)\n",
    "ids = ids.intersection(c)\n",
    "#and the ones that have a power meter\n",
    "idps = [x for x in ids if data[fns[1]][x].has_powermeter]"
   ]
  },
  {
   "cell_type": "code",
   "execution_count": 57,
   "metadata": {},
   "outputs": [],
   "source": [
    "\n",
    "pmts = [ [data[fn][idx].time for idx in idps] \n",
    "                              for fn in fns ]\n",
    "\n",
    "npmts = [ [data[fn][idx].time for idx in ids if  idx not in idps] \n",
    "                              for fn in fns ]\n",
    "\n",
    "labels =  [ data[fns[0]][idx].name.split(' ')[0] for idx in idps  ]\n"
   ]
  },
  {
   "cell_type": "markdown",
   "metadata": {},
   "source": [
    "So we have filtered out only riders with power meters in idps"
   ]
  },
  {
   "cell_type": "code",
   "execution_count": 55,
   "metadata": {},
   "outputs": [
    {
     "data": {
      "image/png": "[encoded data removed]",
      "text/plain": [
       "<matplotlib.figure.Figure at 0x1a19d53210>"
      ]
     },
     "metadata": {},
     "output_type": "display_data"
    }
   ],
   "source": [
    "jj = 1,2\n",
    "style = ['bx','ro']\n",
    "style2 = ['b-','r-']\n",
    "for L in pmts,npmts:\n",
    "    XS,YS = [L[j] for j in jj]\n",
    "    plt.plot(XS,YS,style.pop() )\n",
    "    #now add the regression line\n",
    "    pts = min(XS) - 20,max(XS) + 20\n",
    "    slope, intercept, r_value, p_value, std_err = stats.linregress(np.array(XS),\n",
    "                                                                   np.array(YS))\n",
    " \n",
    "    plt.plot(pts,[slope*x + intercept for x in pts ],style2.pop() )\n",
    "    \n",
    "    \n"
   ]
  },
  {
   "cell_type": "code",
   "execution_count": 67,
   "metadata": {
    "collapsed": true
   },
   "outputs": [],
   "source": [
    "plt.rcParams['figure.figsize'] = 7, 7"
   ]
  },
  {
   "cell_type": "code",
   "execution_count": 68,
   "metadata": {},
   "outputs": [
    {
     "data": {
      "text/plain": [
       "<matplotlib.text.Text at 0x1a1aebe410>"
      ]
     },
     "execution_count": 68,
     "metadata": {},
     "output_type": "execute_result"
    },
    {
     "data": {
      "image/png": "[encoded data removed]",
      "text/plain": [
       "<matplotlib.figure.Figure at 0x1a1aeb4550>"
      ]
     },
     "metadata": {},
     "output_type": "display_data"
    }
   ],
   "source": [
    "XS,YS = pmts[0],pmts[1]\n",
    "xlabel,ylabel = [x.split('.')[0] + 'time (secs)' for x in [fns[0],fns[1]] ]\n",
    "\n",
    "plt.plot(XS,YS,'or')\n",
    "for label, x, y in zip(labels, XS, YS):\n",
    "    plt.annotate(\n",
    "        label,\n",
    "        xy=(x, y), xytext=(-10, 10),\n",
    "        textcoords='offset points', ha='right', va='bottom',\n",
    "        bbox=dict(boxstyle='round,pad=0.5', fc='yellow', alpha=0.5),\n",
    "        arrowprops=dict(arrowstyle = '->', connectionstyle='arc3,rad=0'))\n",
    "\n",
    "#now add the regression line\n",
    "pts = min(XS) - 20,max(XS) + 20\n",
    "slope, intercept, r_value, p_value, std_err = stats.linregress(np.array(XS),\n",
    "                                                               np.array(YS))\n",
    "plt.plot(pts,[slope*x + intercept for x in pts ],'r-' )\n",
    "plt.xlabel(xlabel)\n",
    "plt.ylabel(ylabel)"
   ]
  },
  {
   "cell_type": "code",
   "execution_count": 70,
   "metadata": {},
   "outputs": [
    {
     "name": "stdout",
     "output_type": "stream",
     "text": [
      "0.94 Thibault Menu\n",
      "0.96 Vincent Kerdra\n",
      "0.97 christophe rostaing-troux\n",
      "0.98 Guillaume Vereecke\n",
      "0.99 Jules Vial\n",
      "0.99 Fabrice Mazza\n",
      "1.00 Alex C\n",
      "1.00 Mikael Gallego🇪🇸\n",
      "1.00 Philippe Meunier\n",
      "1.01 Romaric TYTGAT\n",
      "1.01 Simon Wood\n",
      "1.02 Jeremy Brunello\n",
      "1.02 Guillaume Rostalski\n",
      "1.03 Laurent Derain\n",
      "1.03 Florian Giboin\n",
      "1.04 Joris Ronflet\n",
      "1.04 Kieran McShane\n",
      "1.06 Fredo B\n",
      "1.08 Rodolphe Lourd (albator83)\n",
      "1.10 Arnaud Feodoroff\n"
     ]
    }
   ],
   "source": [
    "slopes = [(float(data['colomb.htm'][id_].speed)/data['montaud1.htm'][id_].speed,\n",
    "                           data['montaud2.htm'][id_].name)\n",
    "          for id_ in ids ]\n",
    "slopes.sort(key = lambda x : x[0])\n",
    "\n",
    "for x,y in slopes:\n",
    "    print '%.2f %s' % (x,y)\n",
    "  "
   ]
  },
  {
   "cell_type": "code",
   "execution_count": 138,
   "metadata": {
    "collapsed": true
   },
   "outputs": [],
   "source": [
    "import lxml.html as lh\n",
    "#http://docs.python-guide.org/en/latest/scenarios/scrape/"
   ]
  },
  {
   "cell_type": "code",
   "execution_count": 139,
   "metadata": {},
   "outputs": [
    {
     "data": {
      "text/plain": [
       "'<!DOCTYPE html>\\n<!-- saved from url=(0066)https://www.strava.com/segments/6903988?filter=overall&gen'"
      ]
     },
     "execution_count": 139,
     "metadata": {},
     "output_type": "execute_result"
    }
   ],
   "source": [
    "<td class='athlete'>"
   ]
  },
  {
   "cell_type": "code",
   "execution_count": 252,
   "metadata": {},
   "outputs": [],
   "source": [
    "#tree = lh.parse(data)"
   ]
  },
  {
   "cell_type": "code",
   "execution_count": 163,
   "metadata": {},
   "outputs": [],
   "source": [
    "#This will create a list of buyers:\n",
    "riders = tree.xpath(\"//tr[@class='']>/text\")\n"
   ]
  },
  {
   "cell_type": "code",
   "execution_count": null,
   "metadata": {},
   "outputs": [],
   "source": [
    "import pandas as pd\n",
    "import numpy as np\n"
   ]
  },
  {
   "cell_type": "code",
   "execution_count": null,
   "metadata": {},
   "outputs": [],
   "source": [
    "xx=  data['montaud1.htm']\n"
   ]
  },
  {
   "cell_type": "code",
   "execution_count": null,
   "metadata": {
    "collapsed": true
   },
   "outputs": [],
   "source": []
  },
  {
   "cell_type": "code",
   "execution_count": null,
   "metadata": {
    "collapsed": true
   },
   "outputs": [],
   "source": []
  }
 ],
 "metadata": {
  "kernelspec": {
   "display_name": "Python 2",
   "language": "python",
   "name": "python2"
  },
  "language_info": {
   "codemirror_mode": {
    "name": "ipython",
    "version": 2
   },
   "file_extension": ".py",
   "mimetype": "text/x-python",
   "name": "python",
   "nbconvert_exporter": "python",
   "pygments_lexer": "ipython2",
   "version": "2.7.13"
  }
 },
 "nbformat": 4,
 "nbformat_minor": 1
}
